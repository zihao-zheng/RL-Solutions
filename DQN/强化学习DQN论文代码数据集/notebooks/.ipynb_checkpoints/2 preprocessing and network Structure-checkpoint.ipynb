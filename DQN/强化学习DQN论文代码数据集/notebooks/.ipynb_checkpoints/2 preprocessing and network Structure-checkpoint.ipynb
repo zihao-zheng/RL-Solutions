{
 "cells": [
  {
   "cell_type": "markdown",
   "metadata": {},
   "source": [
    "# Preprocessing and Network Structure\n"
   ]
  },
  {
   "cell_type": "markdown",
   "metadata": {},
   "source": [
    "\n",
    "**目录：**\n",
    "1. VISUAL输入预处理\n",
    "\n",
    "2. VISUAL输入网络结构\n",
    "\n",
    "3. RAM输入网络结构\n",
    "\n",
    "---"
   ]
  },
  {
   "cell_type": "code",
   "execution_count": 1,
   "metadata": {
    "colab": {},
    "colab_type": "code",
    "id": "aTsg5j62xfnk"
   },
   "outputs": [],
   "source": [
    "import gym\n",
    "import numpy as np\n",
    "import matplotlib.pyplot as plt"
   ]
  },
  {
   "cell_type": "markdown",
   "metadata": {},
   "source": [
    "## 1 VISUAL输入预处理\n",
    "\n",
    "我们这里的预处理会和paper中的步骤不完全一样，因为paper里也缺少具体操作的细节。这里我们会从原始输入开始，给大家展示每一步操作的\n",
    "\n",
    "### 1)  查看图像内容，寻找裁剪\n",
    "\n",
    "首先，我们应该观察图片的内容，确定是否需要裁剪\n",
    "　"
   ]
  },
  {
   "cell_type": "code",
   "execution_count": 2,
   "metadata": {
    "colab": {
     "base_uri": "https://localhost:8080/",
     "height": 265
    },
    "colab_type": "code",
    "executionInfo": {
     "elapsed": 1116,
     "status": "ok",
     "timestamp": 1586088546550,
     "user": {
      "displayName": "Rongfan Liao",
      "photoUrl": "",
      "userId": "07803922812103577726"
     },
     "user_tz": -480
    },
    "id": "eo9f_BRVPpcK",
    "outputId": "81a110d9-b1e7-46b6-f000-76100709da4e"
   },
   "outputs": [
    {
     "data": {
      "text/plain": [
       "<matplotlib.image.AxesImage at 0x12409d438>"
      ]
     },
     "execution_count": 2,
     "metadata": {},
     "output_type": "execute_result"
    },
    {
     "data": {
      "image/png": "[encoded data removed]",
      "text/plain": [
       "<Figure size 432x288 with 1 Axes>"
      ]
     },
     "metadata": {},
     "output_type": "display_data"
    }
   ],
   "source": [
    "env = gym.make('Pong-v0')\n",
    "state = env.reset()\n",
    "plt.imshow(state)"
   ]
  },
  {
   "cell_type": "markdown",
   "metadata": {},
   "source": [
    "可以看到只有中心部分是游戏信息区域，上面的计分板和边框，下面的边框都是不需要的信息，所以可以进行裁剪，具体裁剪的目标是：\n",
    "\n",
    "  * 裁剪后图片变为方块状(210, 160, 3) $\\longrightarrow$ (160, 160, 3)\n",
    "  * 裁剪尽可能多的保留中央区域\n",
    "  \n",
    "这基本就是一个反复尝试的过程，需要多次尝试才能找到合适的裁剪区域，我自己最后选择的区域是`34:194`, 大家可以调整这个数值看效果，喜欢使用`opencv`的同学也可以使用`opencv`来进行裁剪和downsampleing。此处裁剪后的效果如下:"
   ]
  },
  {
   "cell_type": "code",
   "execution_count": 3,
   "metadata": {},
   "outputs": [
    {
     "data": {
      "text/plain": [
       "<matplotlib.image.AxesImage at 0x124196550>"
      ]
     },
     "execution_count": 3,
     "metadata": {},
     "output_type": "execute_result"
    },
    {
     "data": {
      "image/png": "[encoded data removed]",
      "text/plain": [
       "<Figure size 432x288 with 1 Axes>"
      ]
     },
     "metadata": {},
     "output_type": "display_data"
    }
   ],
   "source": [
    "def preprocess(image):\n",
    "    image = image[34:194, :, :]\n",
    "    return image\n",
    "\n",
    "plt.imshow(preprocess(state))"
   ]
  },
  {
   "cell_type": "markdown",
   "metadata": {},
   "source": [
    "### 2）Grayscale\n",
    "\n",
    "这一步很简单，其实就是把RGB图像的三个channel取平均值"
   ]
  },
  {
   "cell_type": "code",
   "execution_count": 4,
   "metadata": {},
   "outputs": [
    {
     "data": {
      "text/plain": [
       "<matplotlib.image.AxesImage at 0x1242f7160>"
      ]
     },
     "execution_count": 4,
     "metadata": {},
     "output_type": "execute_result"
    },
    {
     "data": {
      "image/png": "[encoded data removed]",
      "text/plain": [
       "<Figure size 432x288 with 1 Axes>"
      ]
     },
     "metadata": {},
     "output_type": "display_data"
    }
   ],
   "source": [
    "def preprocess(image):\n",
    "    image = image[34:194, :, :]\n",
    "    image = np.mean(image, axis=2, keepdims=False) # 这里False是因为Pytorch的channel在最前面\n",
    "    return image\n",
    "\n",
    "plt.imshow(preprocess(state))"
   ]
  },
  {
   "cell_type": "code",
   "execution_count": 5,
   "metadata": {},
   "outputs": [
    {
     "data": {
      "text/plain": [
       "array([[90., 90., 90., ..., 90., 90., 90.],\n",
       "       [90., 90., 90., ..., 90., 90., 90.],\n",
       "       [90., 90., 90., ..., 90., 90., 90.],\n",
       "       ...,\n",
       "       [90., 90., 90., ..., 90., 90., 90.],\n",
       "       [90., 90., 90., ..., 90., 90., 90.],\n",
       "       [90., 90., 90., ..., 90., 90., 90.]])"
      ]
     },
     "execution_count": 5,
     "metadata": {},
     "output_type": "execute_result"
    }
   ],
   "source": [
    "preprocess(state)"
   ]
  },
  {
   "cell_type": "markdown",
   "metadata": {},
   "source": [
    "这里之所以把具体数值输出出来，是因为这也是很重要的一个部分，大家可以看到大部分的数值都是90，很显然这就是“背景”颜色，这个信息显然也是可以去掉的，不过我们暂时不处理，而是放在最后一位来处理\n",
    "\n",
    "### 3) DownSampling\n",
    "\n",
    "所谓的DownSampling在这里的操作比较简单，每个方向上直接每两个像素点保留一个就可以了，具体代码如下，可以看到可视化之后并没有感觉有很大的区别，也就是说没有损失很多信息"
   ]
  },
  {
   "cell_type": "code",
   "execution_count": 6,
   "metadata": {},
   "outputs": [
    {
     "data": {
      "text/plain": [
       "<matplotlib.image.AxesImage at 0x1244d1828>"
      ]
     },
     "execution_count": 6,
     "metadata": {},
     "output_type": "execute_result"
    },
    {
     "data": {
      "image/png": "[encoded data removed]",
      "text/plain": [
       "<Figure size 432x288 with 1 Axes>"
      ]
     },
     "metadata": {},
     "output_type": "display_data"
    }
   ],
   "source": [
    "def preprocess(image):\n",
    "    image = image[34:194, :, :]\n",
    "    image = np.mean(image, axis=2, keepdims=False) # 这里False是因为Pytorch的channel在最前面\n",
    "    image = image[::2, ::2]\n",
    "    return image\n",
    "\n",
    "plt.imshow(preprocess(state))"
   ]
  },
  {
   "cell_type": "markdown",
   "metadata": {},
   "source": [
    "### 4) Normalize\n",
    "\n",
    "处理图像的一个很常见的技巧是Normalize，具体的操作有：\n",
    "  * 固定mean和std\n",
    "  * 根据min，max进行缩放\n",
    "  * 归一化\n",
    "  \n",
    "对于我们要处理RGB图像，归一化(/256)显然是很合适的选择，所以直接归一化就好了"
   ]
  },
  {
   "cell_type": "code",
   "execution_count": 7,
   "metadata": {},
   "outputs": [
    {
     "data": {
      "text/plain": [
       "<matplotlib.image.AxesImage at 0x108bf3a90>"
      ]
     },
     "execution_count": 7,
     "metadata": {},
     "output_type": "execute_result"
    },
    {
     "data": {
      "image/png": "[encoded data removed]",
      "text/plain": [
       "<Figure size 432x288 with 1 Axes>"
      ]
     },
     "metadata": {},
     "output_type": "display_data"
    }
   ],
   "source": [
    "def preprocess(image):\n",
    "    image = image[34:194, :, :]\n",
    "    image = np.mean(image, axis=2, keepdims=False) # 这里False是因为Pytorch的channel在最前面\n",
    "    image = image[::2, ::2]\n",
    "    image = image/256\n",
    "    return image\n",
    "\n",
    "plt.imshow(preprocess(state))"
   ]
  },
  {
   "cell_type": "markdown",
   "metadata": {},
   "source": [
    "### 5) Remove Background & Padding\n",
    "\n",
    "现在我们的图像是大小`(80, 80)`的grayscale图片，并且已经完成了归一化，其实这个图像输入就已经可以直接进行使用了，虽然和论文中所给出的`(84, 84)`不完全一样，但微调网络结构总是可以进行的，但是这样微调还是有点麻烦，因为卷积核的kernel size和stride需要重新设计。一个更简单的方法是padding，也就是直接在图片周围补0，补两圈0就会得到`(84, 84)`的图片，并可以直接使用论文中的网络设计。\n",
    "\n",
    "但直接补0的问题在于，图片中会出现新的“边界”，而这显然是不必要的信息，那么有没有可能让“边界”融入“背景”之中呢？这就需要我们将“背景”的数值也全都变为0。而根据前面的结果，我们知道现在的“背景”是90/256，所以这一步也可以简单完成。\n",
    "\n",
    "最后，我们可以在这里做padding，也可以在卷积层做，我个人选择了卷积核处再做padding"
   ]
  },
  {
   "cell_type": "code",
   "execution_count": 8,
   "metadata": {},
   "outputs": [
    {
     "data": {
      "text/plain": [
       "<matplotlib.image.AxesImage at 0x124420780>"
      ]
     },
     "execution_count": 8,
     "metadata": {},
     "output_type": "execute_result"
    },
    {
     "data": {
      "image/png": "[encoded data removed]",
      "text/plain": [
       "<Figure size 432x288 with 1 Axes>"
      ]
     },
     "metadata": {},
     "output_type": "display_data"
    }
   ],
   "source": [
    "def preprocess(image, constant):\n",
    "    image = image[34:194, :, :]\n",
    "    image = np.mean(image, axis=2, keepdims=False) # 这里False是因为Pytorch的channel在最前面\n",
    "    image = image[::2, ::2]\n",
    "    image = image/256 \n",
    "    image = image - constant/256 # 多一个参数constant是因为不同游戏背景色可能不一样\n",
    "    return image\n",
    "\n",
    "plt.imshow(preprocess(state, 90))"
   ]
  },
  {
   "cell_type": "code",
   "execution_count": 9,
   "metadata": {},
   "outputs": [
    {
     "data": {
      "text/plain": [
       "array([[0., 0., 0., ..., 0., 0., 0.],\n",
       "       [0., 0., 0., ..., 0., 0., 0.],\n",
       "       [0., 0., 0., ..., 0., 0., 0.],\n",
       "       ...,\n",
       "       [0., 0., 0., ..., 0., 0., 0.],\n",
       "       [0., 0., 0., ..., 0., 0., 0.],\n",
       "       [0., 0., 0., ..., 0., 0., 0.]])"
      ]
     },
     "execution_count": 9,
     "metadata": {},
     "output_type": "execute_result"
    }
   ],
   "source": [
    "preprocess(state, 90) # a lot of zeros"
   ]
  },
  {
   "cell_type": "markdown",
   "metadata": {},
   "source": [
    "这样我们就完成了输入信息的预处理部分，并分析了每一步背后的原因，接下来我们讨论具体的网络结构\n",
    "\n",
    "## 2) VISUAL输入网络结构\n",
    "\n",
    "这里我们默认同学们知道如何使用Pytorch搭建基本的网络，所以不会进行非常细致的讲解"
   ]
  },
  {
   "cell_type": "code",
   "execution_count": 10,
   "metadata": {},
   "outputs": [],
   "source": [
    "import torch\n",
    "import torch.nn as nn\n",
    "import torch.nn.functional as F"
   ]
  },
  {
   "cell_type": "code",
   "execution_count": 11,
   "metadata": {},
   "outputs": [],
   "source": [
    "class Visual_Q_Network(nn.Module):\n",
    "    '''\n",
    "    The input of this network should have shape (num_frame, 80, 80)\n",
    "    '''\n",
    "\n",
    "    def __init__(self, num_frame, num_action):\n",
    "        super(Visual_Q_Network, self).__init__()\n",
    "        self.conv1 = nn.Conv2d(in_channels=num_frame, out_channels=16, kernel_size=8, stride=4, padding=2)  # 16, 20, 20\n",
    "        self.conv2 = nn.Conv2d(in_channels=16, out_channels=32, kernel_size=4, stride=2)  # 32, 9, 9\n",
    "        self.fc1 = nn.Linear(32 * 81, 256)\n",
    "        self.fc2 = nn.Linear(256, num_action)\n",
    "\n",
    "    def forward(self, image):\n",
    "        x = F.relu(self.conv1(image))\n",
    "        x = F.relu(self.conv2(x))\n",
    "        x = x.view(-1, 32 * 81) # Flatten\n",
    "        x = F.relu(self.fc1(x))\n",
    "        x = self.fc2(x)\n",
    "        return x"
   ]
  },
  {
   "cell_type": "markdown",
   "metadata": {},
   "source": [
    "## 3) RAM输入网络结构\n",
    "\n",
    "RAM输入的网络结构则更加简单，只需要使用fully connected network即可，同样不做过多讲解"
   ]
  },
  {
   "cell_type": "code",
   "execution_count": 12,
   "metadata": {},
   "outputs": [],
   "source": [
    "class Q_Network(nn.Module):\n",
    "\n",
    "    def __init__(self, state_size, action_size, hidden=[64, 64]):\n",
    "        super(Q_Network, self).__init__()\n",
    "        self.fc1 = nn.Linear(state_size, hidden[0])\n",
    "        self.fc2 = nn.Linear(hidden[0], hidden[1])\n",
    "        self.fc3 = nn.Linear(hidden[1], action_size)\n",
    "\n",
    "    def forward(self, state):\n",
    "        x = state\n",
    "        x = F.relu(self.fc1(x))\n",
    "        x = F.relu(self.fc2(x))\n",
    "        x = self.fc3(x)\n",
    "        return x"
   ]
  }
 ],
 "metadata": {
  "colab": {
   "authorship_tag": "ABX9TyMaJPtlMHur6DonwEyZLw5h",
   "collapsed_sections": [],
   "name": "data process and load.ipynb",
   "provenance": []
  },
  "kernelspec": {
   "display_name": "Python 3",
   "language": "python",
   "name": "python3"
  },
  "language_info": {
   "codemirror_mode": {
    "name": "ipython",
    "version": 3
   },
   "file_extension": ".py",
   "mimetype": "text/x-python",
   "name": "python",
   "nbconvert_exporter": "python",
   "pygments_lexer": "ipython3",
   "version": "3.6.8"
  }
 },
 "nbformat": 4,
 "nbformat_minor": 1
}
